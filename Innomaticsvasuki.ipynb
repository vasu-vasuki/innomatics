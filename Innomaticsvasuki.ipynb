{
 "cells": [
  {
   "cell_type": "code",
   "execution_count": null,
   "metadata": {
    "colab": {
     "base_uri": "https://localhost:8080/"
    },
    "id": "JSXJG7XZjAjY",
    "outputId": "a629eb90-b980-42f6-f7d7-a0805995bd64"
   },
   "outputs": [
    {
     "name": "stdout",
     "output_type": "stream",
     "text": [
      "Shape of Movies (9742, 3)\n",
      "Shape ofRatinsg (100836, 4)\n"
     ]
    }
   ],
   "source": [
    "import pandas as pd\n",
    "import matplotlib.pyplot as plt\n",
    "import requests\n",
    "from bs4 import BeautifulSoup\n",
    "\n",
    "tags = pd.read_csv(\"/content/links.csv\")\n",
    "movies = pd.read_csv(\"/content/movies.csv\")\n",
    "ratings = pd.read_csv(\"/content/ratings.csv\")\n",
    "links = pd.read_csv(\"/content/links.csv\")\n",
    "\n",
    "movies_sh = movies.shape\n",
    "tags_sh = tags.shape\n",
    "ratings_sh = ratings.shape\n",
    "\n",
    "print(\"Shape of Movies\", movies_sh)\n",
    "print(\"Shape ofRatinsg\",ratings_sh)"
   ]
  },
  {
   "cell_type": "code",
   "execution_count": null,
   "metadata": {
    "colab": {
     "base_uri": "https://localhost:8080/"
    },
    "id": "TqjTA5nVtMqP",
    "outputId": "fd95f0df-94a3-4252-ab30-46114829dc35"
   },
   "outputs": [
    {
     "name": "stdout",
     "output_type": "stream",
     "text": [
      "Unique userId values: [  1   2   3   4   5   6   7   8   9  10  11  12  13  14  15  16  17  18\n",
      "  19  20  21  22  23  24  25  26  27  28  29  30  31  32  33  34  35  36\n",
      "  37  38  39  40  41  42  43  44  45  46  47  48  49  50  51  52  53  54\n",
      "  55  56  57  58  59  60  61  62  63  64  65  66  67  68  69  70  71  72\n",
      "  73  74  75  76  77  78  79  80  81  82  83  84  85  86  87  88  89  90\n",
      "  91  92  93  94  95  96  97  98  99 100 101 102 103 104 105 106 107 108\n",
      " 109 110 111 112 113 114 115 116 117 118 119 120 121 122 123 124 125 126\n",
      " 127 128 129 130 131 132 133 134 135 136 137 138 139 140 141 142 143 144\n",
      " 145 146 147 148 149 150 151 152 153 154 155 156 157 158 159 160 161 162\n",
      " 163 164 165 166 167 168 169 170 171 172 173 174 175 176 177 178 179 180\n",
      " 181 182 183 184 185 186 187 188 189 190 191 192 193 194 195 196 197 198\n",
      " 199 200 201 202 203 204 205 206 207 208 209 210 211 212 213 214 215 216\n",
      " 217 218 219 220 221 222 223 224 225 226 227 228 229 230 231 232 233 234\n",
      " 235 236 237 238 239 240 241 242 243 244 245 246 247 248 249 250 251 252\n",
      " 253 254 255 256 257 258 259 260 261 262 263 264 265 266 267 268 269 270\n",
      " 271 272 273 274 275 276 277 278 279 280 281 282 283 284 285 286 287 288\n",
      " 289 290 291 292 293 294 295 296 297 298 299 300 301 302 303 304 305 306\n",
      " 307 308 309 310 311 312 313 314 315 316 317 318 319 320 321 322 323 324\n",
      " 325 326 327 328 329 330 331 332 333 334 335 336 337 338 339 340 341 342\n",
      " 343 344 345 346 347 348 349 350 351 352 353 354 355 356 357 358 359 360\n",
      " 361 362 363 364 365 366 367 368 369 370 371 372 373 374 375 376 377 378\n",
      " 379 380 381 382 383 384 385 386 387 388 389 390 391 392 393 394 395 396\n",
      " 397 398 399 400 401 402 403 404 405 406 407 408 409 410 411 412 413 414\n",
      " 415 416 417 418 419 420 421 422 423 424 425 426 427 428 429 430 431 432\n",
      " 433 434 435 436 437 438 439 440 441 442 443 444 445 446 447 448 449 450\n",
      " 451 452 453 454 455 456 457 458 459 460 461 462 463 464 465 466 467 468\n",
      " 469 470 471 472 473 474 475 476 477 478 479 480 481 482 483 484 485 486\n",
      " 487 488 489 490 491 492 493 494 495 496 497 498 499 500 501 502 503 504\n",
      " 505 506 507 508 509 510 511 512 513 514 515 516 517 518 519 520 521 522\n",
      " 523 524 525 526 527 528 529 530 531 532 533 534 535 536 537 538 539 540\n",
      " 541 542 543 544 545 546 547 548 549 550 551 552 553 554 555 556 557 558\n",
      " 559 560 561 562 563 564 565 566 567 568 569 570 571 572 573 574 575 576\n",
      " 577 578 579 580 581 582 583 584 585 586 587 588 589 590 591 592 593 594\n",
      " 595 596 597 598 599 600 601 602 603 604 605 606 607 608 609 610]\n"
     ]
    }
   ],
   "source": [
    "unique_user_id = ratings['userId'].unique()\n",
    "print(\"Unique userId values:\", unique_user_id)"
   ]
  },
  {
   "cell_type": "code",
   "execution_count": null,
   "metadata": {
    "colab": {
     "base_uri": "https://localhost:8080/"
    },
    "id": "vEtYZsNTtYC2",
    "outputId": "f7057707-5f3f-4bce-cefd-ed5b9de290f1"
   },
   "outputs": [
    {
     "name": "stdout",
     "output_type": "stream",
     "text": [
      "Movie with the maximum number of user ratings are \n",
      "title    Forrest Gump (1994)\n",
      "count                    329\n",
      "Name: 314, dtype: object\n"
     ]
    }
   ],
   "source": [
    "ratings_count = ratings.groupby('movieId').size().reset_index(name='count')\n",
    "movies_with_ratings = pd.merge(ratings_count, movies, on='movieId')\n",
    "most_rated_movie = movies_with_ratings.loc[movies_with_ratings['count'].idxmax()]\n",
    "print(\"Movie with the maximum number of user ratings are \")\n",
    "print(most_rated_movie[['title', 'count']])"
   ]
  },
  {
   "cell_type": "code",
   "execution_count": null,
   "metadata": {
    "colab": {
     "base_uri": "https://localhost:8080/"
    },
    "id": "HwRKXpwrtYUy",
    "outputId": "bfac5f3e-3d68-4d6a-ffb2-9f8bd50f6a53"
   },
   "outputs": [
    {
     "name": "stdout",
     "output_type": "stream",
     "text": [
      "Columns in the tags DataFrame: Index(['userId', 'movieId', 'tag', 'timestamp'], dtype='object')\n",
      "Tags for 'The Matrix (1999)':\n",
      "['martial arts' 'sci-fi' 'alternate universe' 'philosophy'\n",
      " 'post apocalyptic']\n"
     ]
    }
   ],
   "source": [
    "import pandas as pd\n",
    "file_path = '/content/tags.csv'\n",
    "data = pd.read_csv(file_path)\n",
    "print(\"Columns in the tags DataFrame:\", data.columns)\n",
    "if 'tag' in data.columns:\n",
    "    if 'movies' in globals():\n",
    "        matrix_movie = movies[movies['title'] == 'Matrix, The (1999)']\n",
    "        if not matrix_movie.empty:\n",
    "            matrix_movie_id = matrix_movie['movieId'].values[0]\n",
    "            matrix_tag = data[data['movieId'] == matrix_movie_id]\n",
    "            unique_tags = matrix_tag[\"tag\"].unique()\n",
    "            print(\"Tags for 'The Matrix (1999)':\")\n",
    "            print(unique_tags)\n",
    "        else:\n",
    "            print(\"The Matrix (1999) not found in the dataset.\")\n",
    "    else:\n",
    "        print(\"The 'movies' DataFrame is not defined.\")\n",
    "else:\n",
    "    print(\"The 'tag' column does not exist in the tags DataFrame.\")\n"
   ]
  },
  {
   "cell_type": "code",
   "execution_count": null,
   "metadata": {
    "colab": {
     "base_uri": "https://localhost:8080/"
    },
    "id": "Ed3qyPrzzg1o",
    "outputId": "46989740-c66a-4347-96a7-a2ac619e5971"
   },
   "outputs": [
    {
     "name": "stdout",
     "output_type": "stream",
     "text": [
      "Average user rating for 'Terminator 2: Judgment Day (1991)': 3.970982142857143\n"
     ]
    }
   ],
   "source": [
    "movie_id = movies[movies['title'] == 'Terminator 2: Judgment Day (1991)']['movieId'].values[0]\n",
    "movie_ratings = ratings[ratings['movieId'] == movie_id]\n",
    "average_rating = movie_ratings['rating'].mean()\n",
    "print(f\"Average user rating for 'Terminator 2: Judgment Day (1991)': {average_rating}\")"
   ]
  },
  {
   "cell_type": "code",
   "execution_count": null,
   "metadata": {
    "colab": {
     "base_uri": "https://localhost:8080/",
     "height": 564
    },
    "id": "O5l3nRAl0Lzh",
    "outputId": "b94ea1d1-f9bc-4183-f3d8-6b9aeeef6373"
   },
   "outputs": [
    {
     "data": {
      "image/png": "[encoded data removed]",
      "text/plain": [
       "<Figure size 1000x600 with 1 Axes>"
      ]
     },
     "metadata": {},
     "output_type": "display_data"
    }
   ],
   "source": [
    "movie_id = movies[movies['title'] == 'Fight Club (1999)']['movieId'].values[0]\n",
    "movie_ratings = ratings[ratings['movieId'] == movie_id]\n",
    "plt.figure(figsize=(10, 6))\n",
    "plt.hist(movie_ratings['rating'], bins=10, edgecolor='black')\n",
    "plt.title('Distribution of User Ratings for \"Fight Club (1999)\"')\n",
    "plt.xlabel('Rating')\n",
    "plt.ylabel('Frequency')\n",
    "plt.grid(True)\n",
    "plt.show()"
   ]
  },
  {
   "cell_type": "code",
   "execution_count": null,
   "metadata": {
    "colab": {
     "base_uri": "https://localhost:8080/"
    },
    "id": "tkN4kafC0V59",
    "outputId": "87684f96-059b-4141-a52a-298572158b8a"
   },
   "outputs": [
    {
     "name": "stdout",
     "output_type": "stream",
     "text": [
      "      movieId                             title  \\\n",
      "0           1                  Toy Story (1995)   \n",
      "1           2                    Jumanji (1995)   \n",
      "2           3           Grumpier Old Men (1995)   \n",
      "5           6                       Heat (1995)   \n",
      "6           7                    Sabrina (1995)   \n",
      "...       ...                               ...   \n",
      "8287   106782   Wolf of Wall Street, The (2013)   \n",
      "8354   109374  Grand Budapest Hotel, The (2014)   \n",
      "8358   109487               Interstellar (2014)   \n",
      "8457   112852    Guardians of the Galaxy (2014)   \n",
      "8673   122904                   Deadpool (2016)   \n",
      "\n",
      "                                           genres  rating_count  mean_rating  \n",
      "0     Adventure|Animation|Children|Comedy|Fantasy           215     3.920930  \n",
      "1                      Adventure|Children|Fantasy           110     3.431818  \n",
      "2                                  Comedy|Romance            52     3.259615  \n",
      "5                           Action|Crime|Thriller           102     3.946078  \n",
      "6                                  Comedy|Romance            54     3.185185  \n",
      "...                                           ...           ...          ...  \n",
      "8287                           Comedy|Crime|Drama            54     3.916667  \n",
      "8354                                 Comedy|Drama            52     3.778846  \n",
      "8358                                  Sci-Fi|IMAX            73     3.993151  \n",
      "8457                      Action|Adventure|Sci-Fi            59     4.050847  \n",
      "8673               Action|Adventure|Comedy|Sci-Fi            54     3.833333  \n",
      "\n",
      "[436 rows x 5 columns]\n"
     ]
    }
   ],
   "source": [
    "grouped_ratings = ratings.groupby('movieId').agg(\n",
    "    rating_count=('rating', 'count'),\n",
    "    mean_rating=('rating', 'mean')\n",
    ").reset_index()\n",
    "merged_df = pd.merge(movies, grouped_ratings, on='movieId', how='inner')\n",
    "filtered_df = merged_df[merged_df['rating_count'] > 50]\n",
    "print(filtered_df)\n",
    "filtered_df.to_csv('filtered_movies.csv', index=False)"
   ]
  },
  {
   "cell_type": "code",
   "execution_count": null,
   "metadata": {
    "colab": {
     "base_uri": "https://localhost:8080/"
    },
    "id": "T35Rn2l60ufv",
    "outputId": "715afa8f-5cec-4484-cabb-74783be90b4b"
   },
   "outputs": [
    {
     "name": "stdout",
     "output_type": "stream",
     "text": [
      "Most popular movie based on average user ratings:\n",
      "Shawshank Redemption, The (1994) with an average rating of 4.43\n"
     ]
    }
   ],
   "source": [
    "most_popular_movie = filtered_df.loc[filtered_df['mean_rating'].idxmax()]\n",
    "print(f\"Most popular movie based on average user ratings:\\n{most_popular_movie['title']} with an average rating of {most_popular_movie['mean_rating']:.2f}\")"
   ]
  },
  {
   "cell_type": "code",
   "execution_count": null,
   "metadata": {
    "colab": {
     "base_uri": "https://localhost:8080/"
    },
    "id": "nnLhxlj804aG",
    "outputId": "9ed788a1-75ae-4b08-a520-e06bf2c9c194"
   },
   "outputs": [
    {
     "name": "stdout",
     "output_type": "stream",
     "text": [
      "                                 title  rating_count\n",
      "314                Forrest Gump (1994)           329\n",
      "277   Shawshank Redemption, The (1994)           317\n",
      "257                Pulp Fiction (1994)           307\n",
      "510   Silence of the Lambs, The (1991)           279\n",
      "1938                Matrix, The (1999)           278\n"
     ]
    }
   ],
   "source": [
    "top_5_movies = filtered_df.sort_values(by='rating_count', ascending=False).head(5)\n",
    "print(top_5_movies[['title', 'rating_count']])"
   ]
  },
  {
   "cell_type": "code",
   "execution_count": null,
   "metadata": {
    "colab": {
     "base_uri": "https://localhost:8080/"
    },
    "id": "MOMs84sL1CVI",
    "outputId": "e628f5c7-964a-4c8f-905b-ce4ce6bd1574"
   },
   "outputs": [
    {
     "name": "stdout",
     "output_type": "stream",
     "text": [
      "Third most popular Sci-Fi movie based on number of user ratings:\n",
      "Deadpool (2016)\n"
     ]
    }
   ],
   "source": [
    "sci_fi_titles = [\n",
    "    'Deadpool (2016)',\n",
    "    'Terminator 2: Judgment Day (1991)',\n",
    "    'X-Men: The Last Stand (2006)',\n",
    "    'Jurassic Park (1993)'\n",
    "]\n",
    "sci_fi_movies_df = filtered_df[filtered_df['title'].isin(sci_fi_titles)]\n",
    "if sci_fi_movies_df.shape[0] >= 3:\n",
    "    sci_fi_top_movies = sci_fi_movies_df.sort_values(by='rating_count', ascending=False)\n",
    "    third_most_popular_sci_fi_movie = sci_fi_top_movies.iloc[2]\n",
    "    result = third_most_popular_sci_fi_movie['title']\n",
    "else:\n",
    "    result = \"Not enough Sci-Fi movies with more than 50 ratings\"\n",
    "\n",
    "print(f\"Third most popular Sci-Fi movie based on number of user ratings:\\n{result}\")"
   ]
  },
  {
   "cell_type": "markdown",
   "metadata": {
    "id": "OkxFrTq-NT9O"
   },
   "source": [
    "# New Section"
   ]
  },
  {
   "cell_type": "code",
   "execution_count": null,
   "metadata": {
    "colab": {
     "base_uri": "https://localhost:8080/"
    },
    "id": "QO1p9put161r",
    "outputId": "77eff63f-6f67-478b-83a9-7393352b933a"
   },
   "outputs": [
    {
     "name": "stdout",
     "output_type": "stream",
     "text": [
      "The movieId with the highest IMDb rating is: 318.0\n"
     ]
    }
   ],
   "source": [
    "import pandas as pd\n",
    "ratings_df = pd.read_csv('/content/ratings.csv')\n",
    "links_df = pd.read_csv('/content/links.csv')\n",
    "filtered_movies = ratings_df.groupby('movieId').filter(lambda x: len(x) > 50)\n",
    "merged_df = pd.merge(filtered_movies, links_df, on='movieId')\n",
    "mean_ratings = filtered_movies.groupby('movieId')['rating'].mean().reset_index()\n",
    "mean_ratings_with_links = pd.merge(mean_ratings, links_df, on='movieId')\n",
    "highest_rated_movie = mean_ratings_with_links.loc[mean_ratings_with_links['rating'].idxmax()]\n",
    "highest_rated_movie_id = highest_rated_movie['movieId']\n",
    "print(\"The movieId with the highest IMDb rating is:\", highest_rated_movie_id)\n"
   ]
  },
  {
   "cell_type": "code",
   "execution_count": null,
   "metadata": {
    "colab": {
     "base_uri": "https://localhost:8080/"
    },
    "id": "dwviHR2v47OD",
    "outputId": "1bee4cfb-f4a0-4695-c142-452142e8b8a7"
   },
   "outputs": [
    {
     "name": "stdout",
     "output_type": "stream",
     "text": [
      "The movieId with the highest IMDb rating in Sci-Fi genre is: 260\n"
     ]
    }
   ],
   "source": [
    "import pandas as pd\n",
    "ratings_df = pd.read_csv('/content/ratings.csv')\n",
    "links_df = pd.read_csv('/content/links.csv')\n",
    "movies_df = pd.read_csv('/content/movies.csv')\n",
    "filtered_movies = ratings_df.groupby('movieId').filter(lambda x: len(x) > 50)\n",
    "merged_df = pd.merge(filtered_movies, links_df, on='movieId')\n",
    "mean_ratings = filtered_movies.groupby('movieId')['rating'].mean().reset_index()\n",
    "mean_ratings_with_movies = pd.merge(mean_ratings, movies_df, on='movieId')\n",
    "sci_fi_movies = mean_ratings_with_movies[mean_ratings_with_movies['genres'].str.contains('Sci-Fi', case=False, na=False)]\n",
    "highest_rated_sci_fi_movie = sci_fi_movies.loc[sci_fi_movies['rating'].idxmax()]\n",
    "highest_rated_sci_fi_movie_id = highest_rated_sci_fi_movie['movieId']\n",
    "print(\"The movieId with the highest IMDb rating in Sci-Fi genre is:\", highest_rated_sci_fi_movie_id)\n"
   ]
  },
  {
   "cell_type": "code",
   "execution_count": null,
   "metadata": {
    "colab": {
     "base_uri": "https://localhost:8080/"
    },
    "id": "xAoDOFvi6YA9",
    "outputId": "c7052633-806d-405e-ea7b-7a3438bf5f6a"
   },
   "outputs": [
    {
     "name": "stdout",
     "output_type": "stream",
     "text": [
      "The movieId with the highest IMDb rating in Sci-Fi genre is: 260\n"
     ]
    }
   ],
   "source": [
    "import pandas as pd\n",
    "\n",
    "# Load the datasets\n",
    "ratings_df = pd.read_csv('/content/ratings.csv')\n",
    "links_df = pd.read_csv('/content/links.csv')\n",
    "movies_df = pd.read_csv('/content/movies.csv')\n",
    "\n",
    "# Filter movies with more than 50 ratings\n",
    "filtered_movies = ratings_df.groupby('movieId').filter(lambda x: len(x) > 50)\n",
    "\n",
    "# Merge filtered movies with links dataset to include IMDb information\n",
    "merged_df = pd.merge(filtered_movies, links_df, on='movieId')\n",
    "\n",
    "# Calculate mean ratings for each movie\n",
    "mean_ratings = filtered_movies.groupby('movieId')['rating'].mean().reset_index()\n",
    "\n",
    "# Merge mean ratings with movies to include genres and other details\n",
    "mean_ratings_with_movies = pd.merge(mean_ratings, movies_df, on='movieId')\n",
    "\n",
    "# Filter for Sci-Fi movies\n",
    "sci_fi_movies = mean_ratings_with_movies[mean_ratings_with_movies['genres'].str.contains('Sci-Fi', case=False, na=False)]\n",
    "\n",
    "# Find the Sci-Fi movieId with the highest average rating\n",
    "highest_rated_sci_fi_movie = sci_fi_movies.loc[sci_fi_movies['rating'].idxmax()]\n",
    "highest_rated_sci_fi_movie_id = highest_rated_sci_fi_movie['movieId']\n",
    "\n",
    "print(\"The movieId with the highest IMDb rating in Sci-Fi genre is:\", highest_rated_sci_fi_movie_id)\n"
   ]
  }
 ],
 "metadata": {
  "colab": {
   "provenance": []
  },
  "kernelspec": {
   "display_name": "Python 3 (ipykernel)",
   "language": "python",
   "name": "python3"
  },
  "language_info": {
   "codemirror_mode": {
    "name": "ipython",
    "version": 3
   },
   "file_extension": ".py",
   "mimetype": "text/x-python",
   "name": "python",
   "nbconvert_exporter": "python",
   "pygments_lexer": "ipython3",
   "version": "3.12.4"
  }
 },
 "nbformat": 4,
 "nbformat_minor": 4
}
